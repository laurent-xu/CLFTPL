{
 "cells": [
  {
   "cell_type": "code",
   "execution_count": 16,
   "metadata": {
    "collapsed": true
   },
   "outputs": [],
   "source": [
    "import re"
   ]
  },
  {
   "cell_type": "code",
   "execution_count": 76,
   "metadata": {},
   "outputs": [
    {
     "name": "stdout",
     "output_type": "stream",
     "text": [
      "[[[32, 64, 128, 256, 512, 1024, 2048, 4096, 8192, 16384, 32768, 65536, 131072, 262144], [180.0, 250.0, 376.0, 588.0, 1039.0, 1846.0, 3763.0, 8122.0, 18689.0, 43273.0, 96633.0, 206932.0, 430113.0, 1022110.0]], [[8, 16, 32, 64, 128, 256, 512, 1024, 2048, 4096, 8192, 16384, 32768, 65536, 131072, 262144], [19.0, 36.0, 70.0, 137.0, 273.0, 543.0, 1086.0, 2177.0, 4365.0, 8741.0, 17788.0, 35591.0, 74630.0, 156064.0, 341597.0, 779701.0]], [[8, 16, 32, 64, 128, 256, 512, 1024, 2048, 4096, 8192, 16384, 32768, 65536, 131072, 262144], [136.0, 677.0, 1389.0, 2713.0, 5715.0, 12639.0, 55739.0, 100203.0, 182565.0, 529323.0, 1081618.0, 2274076.0, 4643187.0, 8523763.0, 18842619.0, 35770764.0]], [[8, 16, 32, 64, 128, 256, 512, 1024, 2048, 4096, 8192, 16384, 32768, 65536, 131072, 262144], [137.0, 143.0, 156.0, 184.0, 231.0, 341.0, 525.0, 895.0, 1636.0, 3183.0, 6311.0, 13876.0, 30095.0, 56503.0, 116598.0, 259455.0]]]\n",
      "['quicksort_bench_ctpl', 'quicksort_bench_single', 'quicksort_bench_bomb', 'quicksort_bench_clctpl']\n"
     ]
    }
   ],
   "source": [
    "bench_names = []\n",
    "benchs = []\n",
    "\n",
    "with open('res.csv', 'r') as f:\n",
    "    lines = f.readlines()\n",
    "    \n",
    "    count = 0 # Use to avoid first 6 lines\n",
    "    last_name = \"\"\n",
    "    bench = -1\n",
    "    \n",
    "    for line in lines:\n",
    "        if (count < 6):\n",
    "            count += 1\n",
    "            continue\n",
    "        \n",
    "        # Get name of bench\n",
    "        name = re.search('32m(.+?)/', line).group(1)\n",
    "        if name != last_name:\n",
    "            bench += 1\n",
    "            benchs.append([[], []])\n",
    "            bench_names.append(name)\n",
    "            last_name = name\n",
    "        \n",
    "        # Get size of bench\n",
    "        size = int(re.search('/(.+?)/real_time', line).group(1))\n",
    "        \n",
    "        # Get duration of bench\n",
    "        time = float(re.search('33m(.+?)us', line).group(1).strip())\n",
    "        \n",
    "        # Save bench data.\n",
    "        benchs[bench][0].append(size)\n",
    "        benchs[bench][1].append(time)\n",
    "\n",
    "print(benchs)\n",
    "print(bench_names)"
   ]
  },
  {
   "cell_type": "code",
   "execution_count": 89,
   "metadata": {
    "collapsed": true
   },
   "outputs": [],
   "source": [
    "import numpy as np\n",
    "import matplotlib.pyplot as plt\n",
    "import math\n",
    "\n",
    "def plot(benchs, xname, yname, color):\n",
    "    x = []\n",
    "    y = []\n",
    "    colors = []\n",
    "    for i in range(len(bench_names)):\n",
    "        for j in range(len(benchs[i])):\n",
    "            x += benchs[i][0]\n",
    "            y += benchs[i][1]\n",
    "            for k in range(len(benchs[i][0])):\n",
    "                colors.append(color[i]) \n",
    "\n",
    "    fig = plt.figure()\n",
    "    plt.scatter(np.array(x), #+ np.random.uniform(0, 1, len(x)),\n",
    "                np.array(y), #+ np.random.uniform(0, 0.1,len(y)),\n",
    "                linestyle='-',\n",
    "                c=colors, marker='.')\n",
    "    fig.suptitle('Quicksort benchmark (CTPL: Red, Single:Green, Bomb:Blue, CLFTPL:Black)')\n",
    "    plt.xlabel(xname)\n",
    "    plt.ylabel(yname)\n",
    "    plt.loglog(x, y, linestyle='None')\n",
    "    plt.savefig('save.png', dpi=1000)\n",
    "    plt.show()"
   ]
  },
  {
   "cell_type": "code",
   "execution_count": 91,
   "metadata": {
    "scrolled": true
   },
   "outputs": [
    {
     "data": {
      "image/png": "[encoded data removed]",
      "text/plain": [
       "<matplotlib.figure.Figure at 0x7f26c8334fd0>"
      ]
     },
     "metadata": {},
     "output_type": "display_data"
    }
   ],
   "source": [
    "colors = ['red', 'green', 'blue', 'black']\n",
    "plot(benchs, 'vector size', 'duration (micros)', colors)"
   ]
  },
  {
   "cell_type": "code",
   "execution_count": null,
   "metadata": {
    "collapsed": true
   },
   "outputs": [],
   "source": []
  }
 ],
 "metadata": {
  "kernelspec": {
   "display_name": "Python 3",
   "language": "python",
   "name": "python3"
  },
  "language_info": {
   "codemirror_mode": {
    "name": "ipython",
    "version": 3
   },
   "file_extension": ".py",
   "mimetype": "text/x-python",
   "name": "python",
   "nbconvert_exporter": "python",
   "pygments_lexer": "ipython3",
   "version": "3.6.2"
  }
 },
 "nbformat": 4,
 "nbformat_minor": 2
}
